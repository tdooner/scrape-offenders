{
 "cells": [
  {
   "cell_type": "code",
   "execution_count": 1,
   "metadata": {
    "collapsed": true
   },
   "outputs": [],
   "source": [
    "import glob\n",
    "import re\n",
    "FILENAME_REGEX = '\\.\\/scraped\\/statuses-([\\d\\-]+).json'\n",
    "file_matches = [re.match(FILENAME_REGEX, file) for file in glob.glob(\"./scraped/statuses-*.json\")]\n",
    "files = [(m[1], m[0]) for m in file_matches]"
   ]
  },
  {
   "cell_type": "code",
   "execution_count": 2,
   "metadata": {
    "collapsed": true
   },
   "outputs": [],
   "source": [
    "import json\n",
    "import time\n",
    "\n",
    "def parse_date(date):\n",
    "    if not date:\n",
    "        return None\n",
    "    \n",
    "    date = date.replace(\"+\", \"\")\n",
    "    try:\n",
    "        return time.strptime(date, \"%m/%d/%Y\")\n",
    "    except:\n",
    "        None\n",
    "        \n",
    "def release_dates_by_sid(file):\n",
    "    sids = {}\n",
    "    with open(file) as f:\n",
    "        for line in f:\n",
    "            l = json.loads(line)\n",
    "            sids[l['sid']] = parse_date(l.get('earliest_release_date', None))\n",
    "    return sids"
   ]
  },
  {
   "cell_type": "code",
   "execution_count": 3,
   "metadata": {},
   "outputs": [
    {
     "name": "stdout",
     "output_type": "stream",
     "text": [
      "2017-03-24\n",
      "2017-03-30\n",
      "2017-04-07\n",
      "2017-04-14\n",
      "2017-04-24\n",
      "2017-05-02\n",
      "2017-05-15\n",
      "2017-05-22\n",
      "2017-05-30\n"
     ]
    }
   ],
   "source": [
    "dates = {}\n",
    "\n",
    "for (date, file) in files:\n",
    "    print(date)\n",
    "    dates[date] = release_dates_by_sid(file)"
   ]
  },
  {
   "cell_type": "code",
   "execution_count": 4,
   "metadata": {
    "collapsed": true
   },
   "outputs": [],
   "source": [
    "# Calculate the total number of data points we have for each SID.\n",
    "# This doesn't calculate *unique* release dates, if a SID has the\n",
    "#   same release date in all 9 scrapes then they will have 9\n",
    "num_release_dates_by_sid = {}\n",
    "\n",
    "for date, release_dates in dates.items():\n",
    "    for sid, release_date in release_dates.items():\n",
    "        num_release_dates_by_sid[sid] = num_release_dates_by_sid.get(sid, 0)\n",
    "\n",
    "        if release_date is not None:\n",
    "            num_release_dates_by_sid[sid] += 1"
   ]
  },
  {
   "cell_type": "code",
   "execution_count": 5,
   "metadata": {
    "scrolled": true
   },
   "outputs": [
    {
     "name": "stdout",
     "output_type": "stream",
     "text": [
      "[(0, 1389), (1, 240), (2, 175), (3, 241), (4, 1942), (5, 1620), (6, 902), (7, 241), (8, 4683), (9, 2905)]\n"
     ]
    },
    {
     "data": {
      "image/png": "[encoded data removed]",
      "text/plain": [
       "<matplotlib.figure.Figure at 0x10b45a630>"
      ]
     },
     "metadata": {},
     "output_type": "display_data"
    }
   ],
   "source": [
    "import matplotlib\n",
    "%matplotlib inline\n",
    "import matplotlib.pylab as plt\n",
    "\n",
    "counts = [(sid, num) for sid, num in num_release_dates_by_sid.items()]\n",
    "max_count = max(map(lambda i: i[1], counts))\n",
    "num_per_count = [(c, len(list(filter(lambda v: v[1] == c, counts)))) for c in range(0, max_count + 1)]\n",
    "\n",
    "# prints tuples like (N, C): C offenders have N parsable release dates\n",
    "print(num_per_count)\n",
    "\n",
    "x = list(map(lambda i: i[0], num_per_count))\n",
    "y = list(map(lambda i: i[1], num_per_count))\n",
    "plt.bar(x, y)\n",
    "plt.title(\"Number of offenders with X (non-unique) release dates\")\n",
    "plt.xlabel(\"Num Release Dates\")\n",
    "plt.ylabel(\"Offenders\")\n",
    "plt.show()"
   ]
  },
  {
   "cell_type": "code",
   "execution_count": 142,
   "metadata": {},
   "outputs": [],
   "source": [
    "def days_difference(time_one, time_two):\n",
    "    \"\"\"\n",
    "    Returns a integral number of days difference (time_two - time_one).\n",
    "    \n",
    "    There must be a better way to do this but I can't google it now\n",
    "    \"\"\"\n",
    "    return int((time.mktime(time_one) - time.mktime(time_two)) / 86400)\n",
    "    \n",
    "def date_changes(sid):\n",
    "    last_release_date = None\n",
    "    changes = []\n",
    "    \n",
    "    for date in dates.keys():\n",
    "        release_date = dates[date].get(sid, None)\n",
    "        if release_date:\n",
    "            if not last_release_date:\n",
    "                last_release_date = release_date\n",
    "            else:\n",
    "                if release_date != last_release_date:\n",
    "                    change = (\n",
    "                        date,\n",
    "                        release_date,\n",
    "                        days_difference(release_date, last_release_date),\n",
    "                        days_difference(last_release_date, time.strptime(date, \"%Y-%m-%d\"))\n",
    "                    )\n",
    "                    changes.append(change)\n",
    "                    last_release_date = release_date\n",
    "    return changes\n",
    "\n",
    "def print_changes(original, changes):\n",
    "    original_formatted_time = time.strftime(\"%Y-%m-%d\", original[1])\n",
    "    print(\"On {} release date was: {}\".format(original[0], original_formatted_time))\n",
    "    for change in changes:\n",
    "        date = change[0]\n",
    "        release_date = change[1]\n",
    "        days_different = change[2]\n",
    "        days_to_gate = change[3]\n",
    "        if not release_date:\n",
    "            continue\n",
    "        formatted_time = time.strftime(\"%Y-%m-%d\", release_date)\n",
    "        print(\"On {} release date became: {}\".format(date, formatted_time))\n",
    "        print(\"  ({} days, with {} days to-the-gate)\".format(days_different, days_to_gate))\n",
    "\n",
    "all_sids = set([])\n",
    "changes_by_sid = {}\n",
    "for v in dates.values():\n",
    "    for sid in v:\n",
    "        if sid not in all_sids:\n",
    "            changes_by_sid[sid] = date_changes(sid)\n",
    "\n",
    "        all_sids.add(sid)"
   ]
  },
  {
   "cell_type": "code",
   "execution_count": 143,
   "metadata": {},
   "outputs": [
    {
     "name": "stdout",
     "output_type": "stream",
     "text": [
      "SID: 13373389 (egregiousness: 0.96)\n",
      "On 2017-03-30 release date was: 2017-05-16\n",
      "On 2017-05-22 release date became: 2017-08-14\n",
      "  (90 days, with -6 days to-the-gate)\n",
      "On 2017-05-30 release date became: 2017-06-02\n",
      "  (-73 days, with 76 days to-the-gate)\n",
      "\n",
      "SID: 18711820 (egregiousness: 0.92)\n",
      "On 2017-03-24 release date was: 2017-05-17\n",
      "On 2017-04-14 release date became: 2017-06-05\n",
      "  (19 days, with 33 days to-the-gate)\n",
      "On 2017-04-24 release date became: 2017-08-15\n",
      "  (71 days, with 42 days to-the-gate)\n",
      "On 2017-05-30 release date became: 2017-06-05\n",
      "  (-71 days, with 77 days to-the-gate)\n",
      "\n",
      "SID: 16643646 (egregiousness: 0.88)\n",
      "On 2017-03-24 release date was: 2017-05-22\n",
      "On 2017-05-02 release date became: 2017-08-18\n",
      "  (88 days, with 20 days to-the-gate)\n",
      "On 2017-05-30 release date became: 2017-06-09\n",
      "  (-70 days, with 80 days to-the-gate)\n",
      "\n",
      "SID: 11192942 (egregiousness: 0.81)\n",
      "On 2017-03-24 release date was: 2017-07-06\n",
      "On 2017-04-07 release date became: 2017-05-30\n",
      "  (-37 days, with 90 days to-the-gate)\n",
      "On 2017-04-24 release date became: 2017-05-01\n",
      "  (-29 days, with 36 days to-the-gate)\n",
      "\n",
      "SID: 20480867 (egregiousness: 0.69)\n",
      "On 2017-03-30 release date was: 2017-04-25\n",
      "On 2017-04-14 release date became: 2017-07-24\n",
      "  (90 days, with 11 days to-the-gate)\n",
      "On 2017-04-24 release date became: 2017-05-22\n",
      "  (-63 days, with 91 days to-the-gate)\n",
      "\n",
      "SID: 15452022 (egregiousness: 0.67)\n",
      "On 2017-03-24 release date was: 2017-10-04\n",
      "On 2017-05-15 release date became: 2017-10-03\n",
      "  (-1 days, with 142 days to-the-gate)\n",
      "On 2017-05-22 release date became: 2017-07-05\n",
      "  (-90 days, with 134 days to-the-gate)\n",
      "\n",
      "SID: 6433734 (egregiousness: 0.67)\n",
      "On 2017-03-24 release date was: 2017-12-27\n",
      "On 2017-04-14 release date became: 2018-01-06\n",
      "  (10 days, with 257 days to-the-gate)\n",
      "On 2017-05-15 release date became: 2017-08-01\n",
      "  (-158 days, with 236 days to-the-gate)\n",
      "\n",
      "SID: 20720221 (egregiousness: 0.62)\n",
      "On 2017-03-30 release date was: 2017-07-11\n",
      "On 2017-04-24 release date became: 2017-10-08\n",
      "  (89 days, with 78 days to-the-gate)\n",
      "On 2017-05-15 release date became: 2017-07-10\n",
      "  (-90 days, with 146 days to-the-gate)\n",
      "\n",
      "SID: 12105735 (egregiousness: 0.59)\n",
      "On 2017-03-30 release date was: 2017-11-01\n",
      "On 2017-05-15 release date became: 2017-10-28\n",
      "  (-4 days, with 170 days to-the-gate)\n",
      "On 2017-05-30 release date became: 2017-07-31\n",
      "  (-89 days, with 151 days to-the-gate)\n",
      "\n",
      "SID: 12156766 (egregiousness: 0.57)\n",
      "On 2017-03-30 release date was: 2018-04-12\n",
      "On 2017-05-15 release date became: 2018-05-02\n",
      "  (20 days, with 332 days to-the-gate)\n",
      "On 2017-05-22 release date became: 2017-10-19\n",
      "  (-195 days, with 345 days to-the-gate)\n",
      "\n",
      "SID: 18018750 (egregiousness: 0.55)\n",
      "On 2017-03-30 release date was: 2017-08-05\n",
      "On 2017-05-15 release date became: 2017-08-04\n",
      "  (-1 days, with 82 days to-the-gate)\n",
      "On 2017-05-22 release date became: 2017-08-25\n",
      "  (21 days, with 74 days to-the-gate)\n",
      "On 2017-05-30 release date became: 2017-07-08\n",
      "  (-48 days, with 87 days to-the-gate)\n",
      "\n",
      "SID: 14870693 (egregiousness: 0.46)\n",
      "On 2017-03-24 release date was: 2017-12-03\n",
      "On 2017-05-02 release date became: 2017-11-27\n",
      "  (-6 days, with 215 days to-the-gate)\n",
      "On 2017-05-15 release date became: 2017-08-29\n",
      "  (-90 days, with 196 days to-the-gate)\n",
      "\n"
     ]
    }
   ],
   "source": [
    "# assume that *dates* is sorted by date, and take the first release\n",
    "# date present\n",
    "first_release_date_by_sid = {}\n",
    "for date, release_dates in dates.items():\n",
    "    for sid, release_date in release_dates.items():\n",
    "        if sid in first_release_date_by_sid:\n",
    "            continue\n",
    "        if not release_date:\n",
    "            continue\n",
    "            \n",
    "        first_release_date_by_sid[sid] = (date, release_date)\n",
    "\n",
    "def egregiousness(changes):\n",
    "    if not len(changes):\n",
    "        return -2 # no changes? very un-egregious!\n",
    "    change = changes[-1]\n",
    "    days_different = change[2]\n",
    "    days_to_gate = change[3]\n",
    "    if days_different > 0:\n",
    "        return -1 # delaying the release date? un-egregious!\n",
    "    else:\n",
    "        return -(days_different / days_to_gate)\n",
    "\n",
    "change_tuples = list(filter(lambda el: egregiousness(el[1]) > 0.4,\n",
    "    [(sid, changes) for sid, changes in changes_by_sid.items()]))\n",
    "change_tuples.sort(key=lambda el: egregiousness(el[1]), reverse=True)\n",
    "\n",
    "for (sid, changes) in change_tuples:\n",
    "    if len(changes) > 1:\n",
    "        print(\"SID: {} (egregiousness: {})\".format(sid, round(egregiousness(changes), 2)))\n",
    "        print_changes(first_release_date_by_sid[sid], changes_by_sid[sid])\n",
    "        print(\"\")"
   ]
  },
  {
   "cell_type": "code",
   "execution_count": null,
   "metadata": {
    "collapsed": true
   },
   "outputs": [],
   "source": []
  }
 ],
 "metadata": {
  "kernelspec": {
   "display_name": "Python 3",
   "language": "python",
   "name": "python3"
  },
  "language_info": {
   "codemirror_mode": {
    "name": "ipython",
    "version": 3
   },
   "file_extension": ".py",
   "mimetype": "text/x-python",
   "name": "python",
   "nbconvert_exporter": "python",
   "pygments_lexer": "ipython3",
   "version": "3.6.0"
  }
 },
 "nbformat": 4,
 "nbformat_minor": 2
}
