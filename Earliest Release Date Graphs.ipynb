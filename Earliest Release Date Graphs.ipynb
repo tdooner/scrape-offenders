{
 "cells": [
  {
   "cell_type": "code",
   "execution_count": 2,
   "metadata": {
    "collapsed": true
   },
   "outputs": [],
   "source": [
    "import glob\n",
    "import re\n",
    "FILENAME_REGEX = '\\.\\/scraped\\/statuses-([\\d\\-]+).json'\n",
    "file_matches = [re.match(FILENAME_REGEX, file) for file in glob.glob(\"./scraped/statuses-*.json\")]\n",
    "files = [(m[1], m[0]) for m in file_matches]"
   ]
  },
  {
   "cell_type": "code",
   "execution_count": 116,
   "metadata": {},
   "outputs": [],
   "source": [
    "import json\n",
    "\n",
    "def parse_date(date):\n",
    "    if not date:\n",
    "        return None\n",
    "    \n",
    "    date = date.replace(\"+\", \"\")\n",
    "    try:\n",
    "        return time.strptime(date, \"%m/%d/%Y\")\n",
    "    except:\n",
    "        None\n",
    "        \n",
    "def release_dates_by_sid(file):\n",
    "    sids = {}\n",
    "    with open(file) as f:\n",
    "        for line in f:\n",
    "            l = json.loads(line)\n",
    "            sids[l['sid']] = parse_date(l.get('earliest_release_date', None))\n",
    "    return sids"
   ]
  },
  {
   "cell_type": "code",
   "execution_count": 117,
   "metadata": {},
   "outputs": [
    {
     "name": "stdout",
     "output_type": "stream",
     "text": [
      "2017-03-24\n",
      "2017-03-30\n",
      "2017-04-07\n",
      "2017-04-14\n",
      "2017-04-24\n",
      "2017-05-02\n",
      "2017-05-15\n",
      "2017-05-22\n"
     ]
    }
   ],
   "source": [
    "dates = {}\n",
    "\n",
    "for (date, file) in files:\n",
    "    print(date)\n",
    "    dates[date] = release_dates_by_sid(file)"
   ]
  },
  {
   "cell_type": "code",
   "execution_count": 119,
   "metadata": {},
   "outputs": [],
   "source": [
    "num_release_dates_by_sid = {}\n",
    "\n",
    "for date, release_dates in dates.items():\n",
    "    for sid, release_date in release_dates.items():\n",
    "        num_release_dates_by_sid[sid] = num_release_dates_by_sid.get(sid, 0)\n",
    "        \n",
    "        if release_date is not None:\n",
    "            num_release_dates_by_sid[sid] += 1"
   ]
  },
  {
   "cell_type": "code",
   "execution_count": 152,
   "metadata": {
    "scrolled": true
   },
   "outputs": [
    {
     "name": "stdout",
     "output_type": "stream",
     "text": [
      "[(0, 1301), (1, 250), (2, 285), (3, 1214), (4, 1962), (5, 1324), (6, 253), (7, 4728), (8, 2932)]\n"
     ]
    },
    {
     "data": {
      "image/png": "[encoded data removed]",
      "text/plain": [
       "<matplotlib.figure.Figure at 0x1068d8f60>"
      ]
     },
     "metadata": {},
     "output_type": "display_data"
    }
   ],
   "source": [
    "import matplotlib\n",
    "%matplotlib inline\n",
    "import matplotlib.pylab as plt\n",
    "\n",
    "counts = [(sid, num) for sid, num in num_release_dates_by_sid.items()]\n",
    "max_count = max(map(lambda i: i[1], counts))\n",
    "num_per_count = [(c, len(list(filter(lambda v: v[1] == c, counts)))) for c in range(0, max_count + 1)]\n",
    "\n",
    "# prints tuples like (N, C): C offenders have N parsable release dates\n",
    "print(num_per_count)\n",
    "\n",
    "x = list(map(lambda i: i[0], num_per_count))\n",
    "y = list(map(lambda i: i[1], num_per_count))\n",
    "plt.bar(x, y)\n",
    "plt.title(\"Number of offenders with X release dates\")\n",
    "plt.xlabel(\"Num Release Dates\")\n",
    "plt.ylabel(\"Offenders\")\n",
    "plt.show()"
   ]
  },
  {
   "cell_type": "code",
   "execution_count": null,
   "metadata": {
    "collapsed": true
   },
   "outputs": [],
   "source": []
  }
 ],
 "metadata": {
  "kernelspec": {
   "display_name": "Python 3",
   "language": "python",
   "name": "python3"
  },
  "language_info": {
   "codemirror_mode": {
    "name": "ipython",
    "version": 3
   },
   "file_extension": ".py",
   "mimetype": "text/x-python",
   "name": "python",
   "nbconvert_exporter": "python",
   "pygments_lexer": "ipython3",
   "version": "3.6.0"
  }
 },
 "nbformat": 4,
 "nbformat_minor": 2
}
